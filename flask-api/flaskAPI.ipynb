{
  "nbformat": 4,
  "nbformat_minor": 0,
  "metadata": {
    "colab": {
      "provenance": []
    },
    "kernelspec": {
      "name": "python3",
      "display_name": "Python 3"
    },
    "language_info": {
      "name": "python"
    }
  },
  "cells": [
    {
      "cell_type": "code",
      "execution_count": 1,
      "metadata": {
        "colab": {
          "base_uri": "https://localhost:8080/"
        },
        "id": "fDGpQGc-LEmB",
        "outputId": "6ca4e184-a769-4e25-c213-6a8ad70fa144"
      },
      "outputs": [
        {
          "output_type": "stream",
          "name": "stdout",
          "text": [
            "Collecting flask_ngrok\n",
            "  Downloading flask_ngrok-0.0.25-py3-none-any.whl (3.1 kB)\n",
            "Requirement already satisfied: Flask>=0.8 in /usr/local/lib/python3.10/dist-packages (from flask_ngrok) (2.2.5)\n",
            "Requirement already satisfied: requests in /usr/local/lib/python3.10/dist-packages (from flask_ngrok) (2.31.0)\n",
            "Requirement already satisfied: Werkzeug>=2.2.2 in /usr/local/lib/python3.10/dist-packages (from Flask>=0.8->flask_ngrok) (3.0.1)\n",
            "Requirement already satisfied: Jinja2>=3.0 in /usr/local/lib/python3.10/dist-packages (from Flask>=0.8->flask_ngrok) (3.1.3)\n",
            "Requirement already satisfied: itsdangerous>=2.0 in /usr/local/lib/python3.10/dist-packages (from Flask>=0.8->flask_ngrok) (2.1.2)\n",
            "Requirement already satisfied: click>=8.0 in /usr/local/lib/python3.10/dist-packages (from Flask>=0.8->flask_ngrok) (8.1.7)\n",
            "Requirement already satisfied: charset-normalizer<4,>=2 in /usr/local/lib/python3.10/dist-packages (from requests->flask_ngrok) (3.3.2)\n",
            "Requirement already satisfied: idna<4,>=2.5 in /usr/local/lib/python3.10/dist-packages (from requests->flask_ngrok) (3.6)\n",
            "Requirement already satisfied: urllib3<3,>=1.21.1 in /usr/local/lib/python3.10/dist-packages (from requests->flask_ngrok) (2.0.7)\n",
            "Requirement already satisfied: certifi>=2017.4.17 in /usr/local/lib/python3.10/dist-packages (from requests->flask_ngrok) (2023.11.17)\n",
            "Requirement already satisfied: MarkupSafe>=2.0 in /usr/local/lib/python3.10/dist-packages (from Jinja2>=3.0->Flask>=0.8->flask_ngrok) (2.1.4)\n",
            "Installing collected packages: flask_ngrok\n",
            "Successfully installed flask_ngrok-0.0.25\n"
          ]
        }
      ],
      "source": [
        "!pip install flask_ngrok"
      ]
    },
    {
      "cell_type": "code",
      "source": [
        "import pandas as pd\n",
        "from flask_ngrok import run_with_ngrok\n",
        "from flask import request, jsonify, Flask\n",
        "import random as rk"
      ],
      "metadata": {
        "id": "B5_FMGeYLPMy"
      },
      "execution_count": 2,
      "outputs": []
    },
    {
      "cell_type": "code",
      "source": [
        "app = Flask(__name__)\n",
        "run_with_ngrok(app)"
      ],
      "metadata": {
        "id": "zHb1CSBwLZHq"
      },
      "execution_count": 3,
      "outputs": []
    },
    {
      "cell_type": "code",
      "source": [
        "data = [{\n",
        "    \"Number\": 1,\n",
        "    \"Name\": \"Alan\",\n",
        "    \"Age\": 25,\n",
        "    \"City\": \"Berlin\",\n",
        "    \"Country\": \"Germany\"\n",
        "}, {\n",
        "    \"Number\": 2,\n",
        "    \"Name\": \"Anna\",\n",
        "    \"Age\": 26,\n",
        "    \"City\": \"London\",\n",
        "    \"Country\": \"UK\"\n",
        "},\n",
        "    {\n",
        "    \"Number\": 3,\n",
        "    \"Name\": \"Pietra\",\n",
        "    \"Age\": 27,\n",
        "    \"City\": \"San Francisco\",\n",
        "    \"Country\": \"USA\"\n",
        "},\n",
        "    {\n",
        "    \"Number\": 4,\n",
        "    \"Name\": \"John\",\n",
        "    \"Age\": 28,\n",
        "    \"City\": \"Toronto\",\n",
        "    \"Country\": \"Canada\"\n",
        "},\n",
        "   {\n",
        "    \"Number\": 5,\n",
        "    \"Name\": \"Luna\",\n",
        "    \"Age\": 29,\n",
        "    \"City\": \"Paris\",\n",
        "    \"Country\": \"France\"\n",
        "}\n",
        "]"
      ],
      "metadata": {
        "id": "nUo8h7LOLmhP"
      },
      "execution_count": 4,
      "outputs": []
    },
    {
      "cell_type": "code",
      "source": [
        "@app.route('/index')\n",
        "def home():\n",
        "  return data"
      ],
      "metadata": {
        "id": "vP6GbuOnMTxq"
      },
      "execution_count": 5,
      "outputs": []
    }
  ]
}