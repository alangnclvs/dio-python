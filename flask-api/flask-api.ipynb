{
  "nbformat": 4,
  "nbformat_minor": 0,
  "metadata": {
    "colab": {
      "provenance": []
    },
    "kernelspec": {
      "name": "python3",
      "display_name": "Python 3"
    },
    "language_info": {
      "name": "python"
    }
  },
  "cells": [
    {
      "cell_type": "code",
      "execution_count": null,
      "metadata": {
        "id": "fDGpQGc-LEmB"
      },
      "outputs": [],
      "source": [
        "!pip install flask_ngrok"
      ]
    },
    {
      "cell_type": "code",
      "source": [
        "import pandas as pd\n",
        "from flask_ngrok import run_with_ngrok\n",
        "from flask import request, jsonify, Flask\n",
        "import random as rk"
      ],
      "metadata": {
        "id": "B5_FMGeYLPMy"
      },
      "execution_count": 2,
      "outputs": []
    },
    {
      "cell_type": "code",
      "source": [
        "app = Flask(__name__)\n",
        "run_with_ngrok(app)"
      ],
      "metadata": {
        "id": "zHb1CSBwLZHq"
      },
      "execution_count": 3,
      "outputs": []
    },
    {
      "cell_type": "code",
      "source": [
        "data = [{\n",
        "    \"Number\": 1,\n",
        "    \"Name\": \"Alan\",\n",
        "    \"Age\": 25,\n",
        "    \"City\": \"Berlin\",\n",
        "    \"Country\": \"Germany\"\n",
        "}, {\n",
        "    \"Number\": 2,\n",
        "    \"Name\": \"Anna\",\n",
        "    \"Age\": 26,\n",
        "    \"City\": \"London\",\n",
        "    \"Country\": \"UK\"\n",
        "},\n",
        "    {\n",
        "    \"Number\": 3,\n",
        "    \"Name\": \"Pietra\",\n",
        "    \"Age\": 27,\n",
        "    \"City\": \"San Francisco\",\n",
        "    \"Country\": \"USA\"\n",
        "},\n",
        "    {\n",
        "    \"Number\": 4,\n",
        "    \"Name\": \"John\",\n",
        "    \"Age\": 28,\n",
        "    \"City\": \"Toronto\",\n",
        "    \"Country\": \"Canada\"\n",
        "},\n",
        "   {\n",
        "    \"Number\": 5,\n",
        "    \"Name\": \"Luna\",\n",
        "    \"Age\": 29,\n",
        "    \"City\": \"Paris\",\n",
        "    \"Country\": \"France\"\n",
        "}\n",
        "]"
      ],
      "metadata": {
        "id": "nUo8h7LOLmhP"
      },
      "execution_count": 4,
      "outputs": []
    },
    {
      "cell_type": "code",
      "source": [
        "@app.route('/index')\n",
        "def home():\n",
        "  return data"
      ],
      "metadata": {
        "id": "vP6GbuOnMTxq"
      },
      "execution_count": 5,
      "outputs": []
    }
  ]
}